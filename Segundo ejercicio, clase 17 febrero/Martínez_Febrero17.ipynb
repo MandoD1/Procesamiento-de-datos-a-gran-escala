{
 "cells": [
  {
   "cell_type": "markdown",
   "metadata": {
    "application/vnd.databricks.v1+cell": {
     "cellMetadata": {
      "byteLimit": 2048000,
      "rowLimit": 10000
     },
     "inputWidgets": {},
     "nuid": "57d613f9-23d8-413a-81c1-4ae85c5d4efc",
     "showTitle": true,
     "tableResultSettingsMap": {},
     "title": ""
    }
   },
   "source": [
    "**Fecha:** 3/2/2025\n",
    "\n",
    "**Nombre:** Diego Martinez\n",
    "\n",
    "**Clase:** procesamiento de datos"
   ]
  },
  {
   "cell_type": "code",
   "execution_count": 0,
   "metadata": {
    "application/vnd.databricks.v1+cell": {
     "cellMetadata": {
      "byteLimit": 2048000,
      "rowLimit": 10000
     },
     "inputWidgets": {},
     "nuid": "a174fd4a-1c3b-4b93-958b-cfbe0abb3fcd",
     "showTitle": false,
     "tableResultSettingsMap": {},
     "title": ""
    }
   },
   "outputs": [],
   "source": [
    "import numpy as np\n",
    "import matplotlib.pyplot as plt\n",
    "import seaborn as sns\n",
    "\n",
    "from pyspark.sql import SQLContext\n",
    "from pyspark.sql.types import *\n",
    "from pyspark.sql.functions import mean, col, split, count, when, lit, isnan\n",
    "\n",
    "#se llaman las librerías necesarias para poder ejecutar el código"
   ]
  },
  {
   "cell_type": "code",
   "execution_count": 0,
   "metadata": {
    "application/vnd.databricks.v1+cell": {
     "cellMetadata": {
      "byteLimit": 2048000,
      "rowLimit": 10000
     },
     "inputWidgets": {},
     "nuid": "1d0a824b-99f7-4dd1-bb67-86dbcc49ca9b",
     "showTitle": false,
     "tableResultSettingsMap": {},
     "title": ""
    }
   },
   "outputs": [
    {
     "output_type": "execute_result",
     "data": {
      "text/plain": [
       "['id',\n",
       " 'gender',\n",
       " 'age',\n",
       " 'hypertension',\n",
       " 'heart_disease',\n",
       " 'ever_married',\n",
       " 'work_type',\n",
       " 'Residence_type',\n",
       " 'avg_glucose_level',\n",
       " 'bmi',\n",
       " 'smoking_status',\n",
       " 'stroke']"
      ]
     },
     "execution_count": 10,
     "metadata": {},
     "output_type": "execute_result"
    }
   ],
   "source": [
    "df00 = spark.read.table(\"stroke_pyspark_csv\")\n",
    "df00.columns\n",
    "\n",
    "#se lee la base de datos y se observan las columnas que posee"
   ]
  },
  {
   "cell_type": "markdown",
   "metadata": {
    "application/vnd.databricks.v1+cell": {
     "cellMetadata": {
      "byteLimit": 2048000,
      "rowLimit": 10000
     },
     "inputWidgets": {},
     "nuid": "1ad2b3a3-1399-48f7-bdc3-37845ff9abd9",
     "showTitle": false,
     "tableResultSettingsMap": {},
     "title": ""
    }
   },
   "source": [
    "// se cambia los nombres de las columnas\n"
   ]
  },
  {
   "cell_type": "code",
   "execution_count": 0,
   "metadata": {
    "application/vnd.databricks.v1+cell": {
     "cellMetadata": {
      "byteLimit": 2048000,
      "rowLimit": 10000
     },
     "inputWidgets": {},
     "nuid": "21bb3978-d79f-4fa6-8c66-cff963b8ed49",
     "showTitle": false,
     "tableResultSettingsMap": {},
     "title": ""
    }
   },
   "outputs": [
    {
     "output_type": "execute_result",
     "data": {
      "text/plain": [
       "['id',\n",
       " 'genero',\n",
       " 'edad',\n",
       " 'hipertension',\n",
       " 'enfCardiaca',\n",
       " 'EstCivil',\n",
       " 'trabajo',\n",
       " 'residencia',\n",
       " 'nivelGlucosa',\n",
       " 'IMC',\n",
       " 'fumador',\n",
       " 'paroCardiaco']"
      ]
     },
     "execution_count": 11,
     "metadata": {},
     "output_type": "execute_result"
    }
   ],
   "source": [
    "nuevosN = ['id', 'genero', 'edad', 'hipertension', 'enfCardiaca', 'EstCivil', 'trabajo', 'residencia', 'nivelGlucosa', 'IMC', 'fumador', 'paroCardiaco']\n",
    "df01 = df00\n",
    "for antes, nuevo in zip(df00.columns, nuevosN) :\n",
    "    df01 = df01.withColumnRenamed(antes, nuevo)\n",
    "df01.columns\n",
    "\n",
    "#se cambian de nombre a las columnas"
   ]
  },
  {
   "cell_type": "code",
   "execution_count": 0,
   "metadata": {
    "application/vnd.databricks.v1+cell": {
     "cellMetadata": {
      "byteLimit": 2048000,
      "rowLimit": 10000
     },
     "inputWidgets": {},
     "nuid": "7a07d3a8-848e-4730-9c85-f7ca87ad3b8b",
     "showTitle": false,
     "tableResultSettingsMap": {},
     "title": ""
    }
   },
   "outputs": [
    {
     "output_type": "stream",
     "name": "stdout",
     "output_type": "stream",
     "text": [
      "root\n |-- id: integer (nullable = true)\n |-- genero: string (nullable = true)\n |-- edad: double (nullable = true)\n |-- hipertension: integer (nullable = true)\n |-- enfCardiaca: integer (nullable = true)\n |-- EstCivil: string (nullable = true)\n |-- trabajo: string (nullable = true)\n |-- residencia: string (nullable = true)\n |-- nivelGlucosa: double (nullable = true)\n |-- IMC: string (nullable = true)\n |-- fumador: string (nullable = true)\n |-- paroCardiaco: integer (nullable = true)\n\n"
     ]
    }
   ],
   "source": [
    "df01.printSchema()\n",
    "\n",
    "#se imprimen los tipos de datos que posee cada columna"
   ]
  },
  {
   "cell_type": "markdown",
   "metadata": {
    "application/vnd.databricks.v1+cell": {
     "cellMetadata": {
      "byteLimit": 2048000,
      "rowLimit": 10000
     },
     "inputWidgets": {},
     "nuid": "2dde7702-1da6-4d2c-85d6-337ead4b3e6b",
     "showTitle": false,
     "tableResultSettingsMap": {},
     "title": ""
    }
   },
   "source": [
    "Se hacen cambios en los datos\n",
    "\n",
    "* IMC pasa a ser double\n",
    "* edad pasa a ser integer"
   ]
  },
  {
   "cell_type": "code",
   "execution_count": 0,
   "metadata": {
    "application/vnd.databricks.v1+cell": {
     "cellMetadata": {
      "byteLimit": 2048000,
      "rowLimit": 10000
     },
     "inputWidgets": {},
     "nuid": "144599e9-b24b-4952-878a-5c108e67d2f3",
     "showTitle": false,
     "tableResultSettingsMap": {},
     "title": ""
    }
   },
   "outputs": [
    {
     "output_type": "stream",
     "name": "stdout",
     "output_type": "stream",
     "text": [
      "root\n |-- id: integer (nullable = true)\n |-- genero: string (nullable = true)\n |-- edad: integer (nullable = true)\n |-- hipertension: integer (nullable = true)\n |-- enfCardiaca: integer (nullable = true)\n |-- EstCivil: string (nullable = true)\n |-- trabajo: string (nullable = true)\n |-- residencia: string (nullable = true)\n |-- nivelGlucosa: double (nullable = true)\n |-- IMC: double (nullable = true)\n |-- fumador: string (nullable = true)\n |-- paroCardiaco: integer (nullable = true)\n\n"
     ]
    }
   ],
   "source": [
    "df01 = df01.withColumn(\"edad\", df01.edad.cast(\"int\"))\n",
    "df01 = df01.withColumn(\"IMC\", df01.IMC.cast(\"double\"))\n",
    "df01.printSchema()\n",
    "\n",
    "#se modifican los tipos de datos de las columnas edad e IMC"
   ]
  },
  {
   "cell_type": "code",
   "execution_count": 0,
   "metadata": {
    "application/vnd.databricks.v1+cell": {
     "cellMetadata": {
      "byteLimit": 2048000,
      "rowLimit": 10000
     },
     "inputWidgets": {},
     "nuid": "44db57eb-2ea2-4869-ac5e-f09b0846af2d",
     "showTitle": false,
     "tableResultSettingsMap": {},
     "title": ""
    }
   },
   "outputs": [
    {
     "output_type": "stream",
     "name": "stdout",
     "output_type": "stream",
     "text": [
      "+-----+------+----+------------+-----------+--------+-------------+----------+------------+----+---------------+------------+\n|   id|genero|edad|hipertension|enfCardiaca|EstCivil|      trabajo|residencia|nivelGlucosa| IMC|        fumador|paroCardiaco|\n+-----+------+----+------------+-----------+--------+-------------+----------+------------+----+---------------+------------+\n| 9046|  Male|  67|           0|          1|     Yes|      Private|     Urban|      228.69|36.6|formerly smoked|           1|\n|51676|Female|  61|           0|          0|     Yes|Self-employed|     Rural|      202.21|NULL|   never smoked|           1|\n|31112|  Male|  80|           0|          1|     Yes|      Private|     Rural|      105.92|32.5|   never smoked|           1|\n|60182|Female|  49|           0|          0|     Yes|      Private|     Urban|      171.23|34.4|         smokes|           1|\n| 1665|Female|  79|           1|          0|     Yes|Self-employed|     Rural|      174.12|24.0|   never smoked|           1|\n|56669|  Male|  81|           0|          0|     Yes|      Private|     Urban|      186.21|29.0|formerly smoked|           1|\n|53882|  Male|  74|           1|          1|     Yes|      Private|     Rural|       70.09|27.4|   never smoked|           1|\n|10434|Female|  69|           0|          0|      No|      Private|     Urban|       94.39|22.8|   never smoked|           1|\n|27419|Female|  59|           0|          0|     Yes|      Private|     Rural|       76.15|NULL|        Unknown|           1|\n|60491|Female|  78|           0|          0|     Yes|      Private|     Urban|       58.57|24.2|        Unknown|           1|\n+-----+------+----+------------+-----------+--------+-------------+----------+------------+----+---------------+------------+\nonly showing top 10 rows\n\n"
     ]
    }
   ],
   "source": [
    "df01.show(10)\n",
    "#se visualizan las 10 primeras filas de la tabla"
   ]
  },
  {
   "cell_type": "code",
   "execution_count": 0,
   "metadata": {
    "application/vnd.databricks.v1+cell": {
     "cellMetadata": {
      "byteLimit": 2048000,
      "rowLimit": 10000
     },
     "inputWidgets": {},
     "nuid": "99bb7268-05ba-4fd6-9fb0-5155574edd65",
     "showTitle": false,
     "tableResultSettingsMap": {},
     "title": ""
    }
   },
   "outputs": [
    {
     "output_type": "stream",
     "name": "stdout",
     "output_type": "stream",
     "text": [
      "+---+------+----+------------+-----------+--------+-------+----------+------------+---+-------+------------+\n| id|genero|edad|hipertension|enfCardiaca|EstCivil|trabajo|residencia|nivelGlucosa|IMC|fumador|paroCardiaco|\n+---+------+----+------------+-----------+--------+-------+----------+------------+---+-------+------------+\n|  0|     0|   0|           0|          0|       0|      0|         0|           0|201|      0|           0|\n+---+------+----+------------+-----------+--------+-------+----------+------------+---+-------+------------+\n\n"
     ]
    }
   ],
   "source": [
    "df01.select([count(when(isnan(c) | col(c).isNull(), c)).alias(c) for c in df01.columns]).show()\n",
    "#se observan cuantos valores nulos se poseen en la tabla de datos"
   ]
  },
  {
   "cell_type": "markdown",
   "metadata": {
    "application/vnd.databricks.v1+cell": {
     "cellMetadata": {
      "byteLimit": 2048000,
      "rowLimit": 10000
     },
     "inputWidgets": {},
     "nuid": "050787e4-f2f7-41a2-a4fc-318227cbbaa9",
     "showTitle": false,
     "tableResultSettingsMap": {},
     "title": ""
    }
   },
   "source": [
    "La columna IMC presenta datos nulos o imposibles, a pesar que el porcentaje de datos nulos son bajos, se requiere crear una estrategia para remplazar los datos sin la necesidad de eliminarlos"
   ]
  },
  {
   "cell_type": "code",
   "execution_count": 0,
   "metadata": {
    "application/vnd.databricks.v1+cell": {
     "cellMetadata": {
      "byteLimit": 2048000,
      "rowLimit": 10000
     },
     "inputWidgets": {},
     "nuid": "c4cda60a-1c49-4f80-80e1-509b09fb954f",
     "showTitle": false,
     "tableResultSettingsMap": {},
     "title": ""
    }
   },
   "outputs": [
    {
     "output_type": "stream",
     "name": "stdout",
     "output_type": "stream",
     "text": [
      "+------+-----+\n|genero|count|\n+------+-----+\n|Female| 2994|\n| Other|    1|\n|  Male| 2115|\n+------+-----+\n\n"
     ]
    }
   ],
   "source": [
    "df02 = df01.where(\"genero <> 'other'\")\n",
    "df02.groupby([\"genero\"]).count().show()\n",
    "#se separan los valores significativos de la columna de edad"
   ]
  },
  {
   "cell_type": "code",
   "execution_count": 0,
   "metadata": {
    "application/vnd.databricks.v1+cell": {
     "cellMetadata": {
      "byteLimit": 2048000,
      "rowLimit": 10000
     },
     "inputWidgets": {},
     "nuid": "45c53950-64e1-4b2b-9636-1db1ad3d878c",
     "showTitle": false,
     "tableResultSettingsMap": {},
     "title": ""
    }
   },
   "outputs": [],
   "source": [
    "avg10f = df02.where((col('genero') == lit('Female')) & (col('edad') < 10)).select(mean(col('IMC'))).collect()\n",
    "avg20f = df02.where((col('genero') == lit('Female')) & (col('edad') > 10) & (col('edad') < 20)).select(mean(col('IMC'))).collect()\n",
    "avg30f = df02.where((col('genero') == lit('Female')) & (col('edad') > 10) & (col('edad') < 30)).select(mean(col('IMC'))).collect()\n",
    "avg40f = df02.where((col('genero') == lit('Female')) & (col('edad') > 10) & (col('edad') < 40)).select(mean(col('IMC'))).collect()\n",
    "avg50f = df02.where((col('genero') == lit('Female')) & (col('edad') > 10) & (col('edad') < 50)).select(mean(col('IMC'))).collect()\n",
    "avg60f = df02.where((col('genero') == lit('Female')) & (col('edad') > 10) & (col('edad') < 60)).select(mean(col('IMC'))).collect()\n",
    "avg70f = df02.where((col('genero') == lit('Female')) & (col('edad') > 10) & (col('edad') < 70)).select(mean(col('IMC'))).collect()\n",
    "avg80f = df02.where((col('genero') == lit('Female')) & (col('edad') > 10) & (col('edad') < 80)).select(mean(col('IMC'))).collect()\n",
    "avg90f = df02.where((col('genero') == lit('Female')) & (col('edad') > 10) & (col('edad') < 90)).select(mean(col('IMC'))).collect()\n",
    "\n",
    "#se calcula el promedio de IMC en distintos grupos de edad"
   ]
  },
  {
   "cell_type": "code",
   "execution_count": 0,
   "metadata": {
    "application/vnd.databricks.v1+cell": {
     "cellMetadata": {
      "byteLimit": 2048000,
      "rowLimit": 10000
     },
     "inputWidgets": {},
     "nuid": "38b286f0-f213-471e-a7f2-d5af9a27bed5",
     "showTitle": false,
     "tableResultSettingsMap": {},
     "title": ""
    }
   },
   "outputs": [],
   "source": [
    "df03 = df02.withColumn(\"IMC\", when((df02['genero'] == 'Female') & (df02[\"IMC\"].isNull()) & (df02[\"edad\"] < 10 ), avg10f[0][0]).otherwise(df02['IMC']))\n",
    "df03 = df03.withColumn(\"IMC\", when((df03['genero'] == 'Female') & (df03[\"IMC\"].isNull()) & (df03[\"edad\"] < 20 ), avg20f[0][0]).otherwise(df03['IMC']))\n",
    "df03 = df03.withColumn(\"IMC\", when((df03['genero'] == 'Female') & (df03[\"IMC\"].isNull()) & (df03[\"edad\"] < 30 ), avg30f[0][0]).otherwise(df03['IMC']))\n",
    "df03 = df03.withColumn(\"IMC\", when((df03['genero'] == 'Female') & (df03[\"IMC\"].isNull()) & (df03[\"edad\"] < 40 ), avg40f[0][0]).otherwise(df03['IMC']))\n",
    "df03 = df03.withColumn(\"IMC\", when((df03['genero'] == 'Female') & (df03[\"IMC\"].isNull()) & (df03[\"edad\"] < 50 ), avg50f[0][0]).otherwise(df03['IMC']))\n",
    "df03 = df03.withColumn(\"IMC\", when((df03['genero'] == 'Female') & (df03[\"IMC\"].isNull()) & (df03[\"edad\"] < 60 ), avg60f[0][0]).otherwise(df03['IMC']))\n",
    "df03 = df03.withColumn(\"IMC\", when((df03['genero'] == 'Female') & (df03[\"IMC\"].isNull()) & (df03[\"edad\"] < 70 ), avg70f[0][0]).otherwise(df03['IMC']))\n",
    "df03 = df03.withColumn(\"IMC\", when((df03['genero'] == 'Female') & (df03[\"IMC\"].isNull()) & (df03[\"edad\"] < 80 ), avg80f[0][0]).otherwise(df03['IMC']))\n",
    "df03 = df03.withColumn(\"IMC\", when((df03['genero'] == 'Female') & (df03[\"IMC\"].isNull()) & (df03[\"edad\"] < 90 ), avg90f[0][0]).otherwise(df03['IMC']))\n",
    "\n",
    "#se buscan y remplazan los valores NULL usando el promedio de edades previamente encontrado\n"
   ]
  },
  {
   "cell_type": "code",
   "execution_count": 0,
   "metadata": {
    "application/vnd.databricks.v1+cell": {
     "cellMetadata": {
      "byteLimit": 2048000,
      "rowLimit": 10000
     },
     "inputWidgets": {},
     "nuid": "71f3dd4b-e057-4f32-a43e-30cbe614d169",
     "showTitle": false,
     "tableResultSettingsMap": {},
     "title": ""
    }
   },
   "outputs": [
    {
     "output_type": "stream",
     "name": "stdout",
     "output_type": "stream",
     "text": [
      "+---+------+----+------------+-----------+--------+-------+----------+------------+---+-------+------------+\n| id|genero|edad|hipertension|enfCardiaca|EstCivil|trabajo|residencia|nivelGlucosa|IMC|fumador|paroCardiaco|\n+---+------+----+------------+-----------+--------+-------+----------+------------+---+-------+------------+\n|  0|     0|   0|           0|          0|       0|      0|         0|           0|104|      0|           0|\n+---+------+----+------------+-----------+--------+-------+----------+------------+---+-------+------------+\n\n"
     ]
    }
   ],
   "source": [
    "df03.select([count(when(isnan(c) | col(c).isNull(), c)).alias(c) for c in df03.columns]).show()\n",
    "#se mira el número de valores NULL"
   ]
  },
  {
   "cell_type": "code",
   "execution_count": 0,
   "metadata": {
    "application/vnd.databricks.v1+cell": {
     "cellMetadata": {
      "byteLimit": 2048000,
      "rowLimit": 10000
     },
     "inputWidgets": {},
     "nuid": "d3de9c36-da44-4b72-8360-0cd36e1b98d3",
     "showTitle": false,
     "tableResultSettingsMap": {},
     "title": ""
    }
   },
   "outputs": [
    {
     "output_type": "stream",
     "name": "stdout",
     "output_type": "stream",
     "text": [
      "18.687962962962963\n"
     ]
    }
   ],
   "source": [
    "\n",
    "print(avg10f[0][0])\n",
    "#se observa un promedio generado"
   ]
  },
  {
   "cell_type": "code",
   "execution_count": 0,
   "metadata": {
    "application/vnd.databricks.v1+cell": {
     "cellMetadata": {
      "byteLimit": 2048000,
      "rowLimit": 10000
     },
     "inputWidgets": {},
     "nuid": "9c264bdb-8587-4be7-a0ca-028096a50fe1",
     "showTitle": false,
     "tableResultSettingsMap": {},
     "title": ""
    }
   },
   "outputs": [],
   "source": [
    "df04 = df03.withColumn(\"IMC\", when((df03['genero'] == 'Male') & (df03[\"IMC\"].isNull()) & (df03[\"edad\"] < 10 ), avg10f[0][0]).otherwise(df03['IMC']))\n",
    "df04 = df04.withColumn(\"IMC\", when((df04['genero'] == 'Male') & (df04[\"IMC\"].isNull()) & (df04[\"edad\"] < 20 ), avg20f[0][0]).otherwise(df04['IMC']))\n",
    "df04 = df04.withColumn(\"IMC\", when((df04['genero'] == 'Male') & (df04[\"IMC\"].isNull()) & (df04[\"edad\"] < 30 ), avg30f[0][0]).otherwise(df04['IMC']))\n",
    "df04 = df04.withColumn(\"IMC\", when((df04['genero'] == 'Male') & (df04[\"IMC\"].isNull()) & (df04[\"edad\"] < 40 ), avg40f[0][0]).otherwise(df04['IMC']))\n",
    "df04 = df04.withColumn(\"IMC\", when((df04['genero'] == 'Male') & (df04[\"IMC\"].isNull()) & (df04[\"edad\"] < 50 ), avg50f[0][0]).otherwise(df04['IMC']))\n",
    "df04 = df04.withColumn(\"IMC\", when((df04['genero'] == 'Male') & (df04[\"IMC\"].isNull()) & (df04[\"edad\"] < 60 ), avg60f[0][0]).otherwise(df04['IMC']))\n",
    "df04 = df04.withColumn(\"IMC\", when((df04['genero'] == 'Male') & (df04[\"IMC\"].isNull()) & (df04[\"edad\"] < 70 ), avg70f[0][0]).otherwise(df04['IMC']))\n",
    "df04 = df04.withColumn(\"IMC\", when((df04['genero'] == 'Male') & (df04[\"IMC\"].isNull()) & (df04[\"edad\"] < 80 ), avg80f[0][0]).otherwise(df04['IMC']))\n",
    "df04 = df04.withColumn(\"IMC\", when((df04['genero'] == 'Male') & (df04[\"IMC\"].isNull()) & (df04[\"edad\"] < 90 ), avg90f[0][0]).otherwise(df04['IMC']))\n",
    "#se buscan y remplazan los valores NULL usando el promedio de edades previamente encontrado\n",
    "\n"
   ]
  },
  {
   "cell_type": "code",
   "execution_count": 0,
   "metadata": {
    "application/vnd.databricks.v1+cell": {
     "cellMetadata": {
      "byteLimit": 2048000,
      "rowLimit": 10000
     },
     "inputWidgets": {},
     "nuid": "c167baa0-eaa5-4078-820b-05b16a0fcd17",
     "showTitle": false,
     "tableResultSettingsMap": {},
     "title": ""
    }
   },
   "outputs": [
    {
     "output_type": "stream",
     "name": "stdout",
     "output_type": "stream",
     "text": [
      "+---+------+----+------------+-----------+--------+-------+----------+------------+---+-------+------------+\n| id|genero|edad|hipertension|enfCardiaca|EstCivil|trabajo|residencia|nivelGlucosa|IMC|fumador|paroCardiaco|\n+---+------+----+------------+-----------+--------+-------+----------+------------+---+-------+------------+\n|  0|     0|   0|           0|          0|       0|      0|         0|           0|  0|      0|           0|\n+---+------+----+------------+-----------+--------+-------+----------+------------+---+-------+------------+\n\n"
     ]
    }
   ],
   "source": [
    "df04.select([count(when(isnan(c) | col(c).isNull(), c)).alias(c) for c in df04.columns]).show()\n",
    "#se observan cuantos valores nulos se poseen en la tabla de datos"
   ]
  },
  {
   "cell_type": "code",
   "execution_count": 0,
   "metadata": {
    "application/vnd.databricks.v1+cell": {
     "cellMetadata": {
      "byteLimit": 2048000,
      "rowLimit": 10000
     },
     "inputWidgets": {},
     "nuid": "3e6e800c-9a2f-49fe-91a2-70264c5e3e1e",
     "showTitle": false,
     "tableResultSettingsMap": {},
     "title": ""
    }
   },
   "outputs": [
    {
     "output_type": "display_data",
     "data": {
      "image/png": "[encoded data removed]",
      "text/plain": [
       "<Figure size 640x480 with 1 Axes>"
      ]
     },
     "metadata": {},
     "output_type": "display_data"
    }
   ],
   "source": [
    "clases, cantidad = df04.groupby('edad').count().select('count').rdd.flatMap(lambda x: x).histogram(20)\n",
    "plt.hist(clases[: -1], bins = clases, weights = cantidad)\n",
    "plt.ylabel('cantidad')\n",
    "plt.xlabel('edad')\n",
    "plt.title('histograma por edades')\n",
    "plt.legend(['edad'], loc='upper right')\n",
    "\n",
    "plt.show()\n",
    "\n",
    "#se genera un histograma para observar la distribución de las edades"
   ]
  },
  {
   "cell_type": "code",
   "execution_count": 0,
   "metadata": {
    "application/vnd.databricks.v1+cell": {
     "cellMetadata": {
      "byteLimit": 2048000,
      "rowLimit": 10000
     },
     "inputWidgets": {},
     "nuid": "faf4a4f5-89e3-4f92-876a-216e1178aa8b",
     "showTitle": false,
     "tableResultSettingsMap": {},
     "title": ""
    }
   },
   "outputs": [
    {
     "output_type": "display_data",
     "data": {
      "image/png": "[encoded data removed]",
      "text/plain": [
       "<Figure size 640x480 with 1 Axes>"
      ]
     },
     "metadata": {},
     "output_type": "display_data"
    }
   ],
   "source": [
    "\n",
    "genero_df = df04.groupBy('genero').count().orderBy('genero')\n",
    "\n",
    "genero_df = genero_df.filter(col('genero') != 'Other')\n",
    "categoria = [row['genero'] for row in genero_df.collect()]  \n",
    "genero = [row['count'] for row in genero_df.collect()] \n",
    "\n",
    "grafica = plt.bar(categoria, genero)\n",
    "\n",
    "grafica[0].set_color('r')\n",
    "\n",
    "plt.ylabel('Cantidad')\n",
    "plt.xlabel('Género')\n",
    "plt.title('Gráfica de barras por género')\n",
    "plt.legend(['Género'], loc='upper right')\n",
    "\n",
    "plt.show()\n",
    "\n",
    "#se genera un diagrama de barras para observar la cantidad de personas que hay por género\n"
   ]
  },
  {
   "cell_type": "code",
   "execution_count": 0,
   "metadata": {
    "application/vnd.databricks.v1+cell": {
     "cellMetadata": {
      "byteLimit": 2048000,
      "rowLimit": 10000
     },
     "inputWidgets": {},
     "nuid": "c71849e9-7b13-4efe-8eed-25e247d25a40",
     "showTitle": false,
     "tableResultSettingsMap": {},
     "title": ""
    }
   },
   "outputs": [
    {
     "output_type": "display_data",
     "data": {
      "image/png": "[encoded data removed]",
      "text/plain": [
       "<Figure size 640x480 with 1 Axes>"
      ]
     },
     "metadata": {},
     "output_type": "display_data"
    }
   ],
   "source": [
    "\n",
    "df_cardio = df04.groupBy(\"enfCardiaca\").count().orderBy(\"enfCardiaca\")\n",
    "\n",
    "categoria = [row['enfCardiaca'] for row in df_cardio.collect()]  \n",
    "enfCardiaca = [row['count'] for row in df_cardio.collect()] \n",
    "\n",
    "grafica = plt.bar(categoria, enfCardiaca)\n",
    "\n",
    "grafica[0].set_color('r')\n",
    "\n",
    "plt.ylabel('Cantidad')\n",
    "plt.xlabel('Enfermedad Cardíaca')\n",
    "plt.title('Gráfica de Barras por Enfermedad Cardíaca')\n",
    "\n",
    "plt.show()\n",
    "\n",
    "#grafico de barras para observar la distribución de las personas que poseen o no enfermedades cardiacas\n"
   ]
  },
  {
   "cell_type": "code",
   "execution_count": 0,
   "metadata": {
    "application/vnd.databricks.v1+cell": {
     "cellMetadata": {
      "byteLimit": 2048000,
      "rowLimit": 10000
     },
     "inputWidgets": {},
     "nuid": "651e35e5-ed75-45d5-a5b3-1bde64d7472e",
     "showTitle": false,
     "tableResultSettingsMap": {},
     "title": ""
    }
   },
   "outputs": [],
   "source": [
    "\n"
   ]
  },
  {
   "cell_type": "code",
   "execution_count": 0,
   "metadata": {
    "application/vnd.databricks.v1+cell": {
     "cellMetadata": {
      "byteLimit": 2048000,
      "rowLimit": 10000
     },
     "inputWidgets": {},
     "nuid": "413787d7-a02a-4466-9741-e51455e01d02",
     "showTitle": false,
     "tableResultSettingsMap": {},
     "title": ""
    }
   },
   "outputs": [
    {
     "output_type": "display_data",
     "data": {
      "text/plain": [
       "\u001B[0;31m---------------------------------------------------------------------------\u001B[0m\n",
       "\u001B[0;31mPySparkTypeError\u001B[0m                          Traceback (most recent call last)\n",
       "File \u001B[0;32m<command-2448543509588220>, line 1\u001B[0m\n",
       "\u001B[0;32m----> 1\u001B[0m avg10f \u001B[38;5;241m=\u001B[39m df02\u001B[38;5;241m.\u001B[39mwhere((col(\u001B[38;5;124m'\u001B[39m\u001B[38;5;124mgenero\u001B[39m\u001B[38;5;124m'\u001B[39m \u001B[38;5;241m==\u001B[39m lit(\u001B[38;5;124m'\u001B[39m\u001B[38;5;124mFemale\u001B[39m\u001B[38;5;124m'\u001B[39m))) \u001B[38;5;241m&\u001B[39m (col(\u001B[38;5;124m'\u001B[39m\u001B[38;5;124medad\u001B[39m\u001B[38;5;124m'\u001B[39m) \u001B[38;5;241m<\u001B[39m \u001B[38;5;241m10\u001B[39m))\u001B[38;5;241m.\u001B[39mselect(mean(col(\u001B[38;5;124m'\u001B[39m\u001B[38;5;124mIMC\u001B[39m\u001B[38;5;124m'\u001B[39m)))\u001B[38;5;241m.\u001B[39mcollect()\n",
       "\u001B[1;32m      2\u001B[0m avg20f \u001B[38;5;241m=\u001B[39m df02\u001B[38;5;241m.\u001B[39mwhere((col(\u001B[38;5;124m'\u001B[39m\u001B[38;5;124mgenero\u001B[39m\u001B[38;5;124m'\u001B[39m \u001B[38;5;241m==\u001B[39m lit(\u001B[38;5;124m'\u001B[39m\u001B[38;5;124mFemale\u001B[39m\u001B[38;5;124m'\u001B[39m))) \u001B[38;5;241m&\u001B[39m (col(\u001B[38;5;124m'\u001B[39m\u001B[38;5;124medad\u001B[39m\u001B[38;5;124m'\u001B[39m) \u001B[38;5;241m>\u001B[39m \u001B[38;5;241m10\u001B[39m) \u001B[38;5;241m&\u001B[39m (col(\u001B[38;5;124m'\u001B[39m\u001B[38;5;124medad\u001B[39m\u001B[38;5;124m'\u001B[39m) \u001B[38;5;241m<\u001B[39m \u001B[38;5;241m20\u001B[39m))\u001B[38;5;241m.\u001B[39mselect(mean(col(\u001B[38;5;124m'\u001B[39m\u001B[38;5;124mIMC\u001B[39m\u001B[38;5;124m'\u001B[39m)))\u001B[38;5;241m.\u001B[39mcollect()\n",
       "\u001B[1;32m      3\u001B[0m avg30f \u001B[38;5;241m=\u001B[39m df02\u001B[38;5;241m.\u001B[39mwhere((col(\u001B[38;5;124m'\u001B[39m\u001B[38;5;124mgenero\u001B[39m\u001B[38;5;124m'\u001B[39m \u001B[38;5;241m==\u001B[39m lit(\u001B[38;5;124m'\u001B[39m\u001B[38;5;124mFemale\u001B[39m\u001B[38;5;124m'\u001B[39m))) \u001B[38;5;241m&\u001B[39m (col(\u001B[38;5;124m'\u001B[39m\u001B[38;5;124medad\u001B[39m\u001B[38;5;124m'\u001B[39m) \u001B[38;5;241m>\u001B[39m \u001B[38;5;241m10\u001B[39m) \u001B[38;5;241m&\u001B[39m (col(\u001B[38;5;124m'\u001B[39m\u001B[38;5;124medad\u001B[39m\u001B[38;5;124m'\u001B[39m) \u001B[38;5;241m<\u001B[39m \u001B[38;5;241m30\u001B[39m))\u001B[38;5;241m.\u001B[39mselect(mean(col(\u001B[38;5;124m'\u001B[39m\u001B[38;5;124mIMC\u001B[39m\u001B[38;5;124m'\u001B[39m)))\u001B[38;5;241m.\u001B[39mcollect()\n",
       "\n",
       "File \u001B[0;32m/databricks/spark/python/pyspark/sql/utils.py:264\u001B[0m, in \u001B[0;36mtry_remote_functions.<locals>.wrapped\u001B[0;34m(*args, **kwargs)\u001B[0m\n",
       "\u001B[1;32m    262\u001B[0m     \u001B[38;5;28;01mreturn\u001B[39;00m \u001B[38;5;28mgetattr\u001B[39m(functions, f\u001B[38;5;241m.\u001B[39m\u001B[38;5;18m__name__\u001B[39m)(\u001B[38;5;241m*\u001B[39margs, \u001B[38;5;241m*\u001B[39m\u001B[38;5;241m*\u001B[39mkwargs)\n",
       "\u001B[1;32m    263\u001B[0m \u001B[38;5;28;01melse\u001B[39;00m:\n",
       "\u001B[0;32m--> 264\u001B[0m     \u001B[38;5;28;01mreturn\u001B[39;00m f(\u001B[38;5;241m*\u001B[39margs, \u001B[38;5;241m*\u001B[39m\u001B[38;5;241m*\u001B[39mkwargs)\n",
       "\n",
       "File \u001B[0;32m/databricks/spark/python/pyspark/sql/functions/builtin.py:256\u001B[0m, in \u001B[0;36mcol\u001B[0;34m(col)\u001B[0m\n",
       "\u001B[1;32m    229\u001B[0m \u001B[38;5;129m@_try_remote_functions\u001B[39m\n",
       "\u001B[1;32m    230\u001B[0m \u001B[38;5;28;01mdef\u001B[39;00m \u001B[38;5;21mcol\u001B[39m(col: \u001B[38;5;28mstr\u001B[39m) \u001B[38;5;241m-\u001B[39m\u001B[38;5;241m>\u001B[39m Column:\n",
       "\u001B[1;32m    231\u001B[0m \u001B[38;5;250m    \u001B[39m\u001B[38;5;124;03m\"\"\"\u001B[39;00m\n",
       "\u001B[1;32m    232\u001B[0m \u001B[38;5;124;03m    Returns a :class:`~pyspark.sql.Column` based on the given column name.\u001B[39;00m\n",
       "\u001B[1;32m    233\u001B[0m \n",
       "\u001B[0;32m   (...)\u001B[0m\n",
       "\u001B[1;32m    254\u001B[0m \u001B[38;5;124;03m    Column<'x'>\u001B[39;00m\n",
       "\u001B[1;32m    255\u001B[0m \u001B[38;5;124;03m    \"\"\"\u001B[39;00m\n",
       "\u001B[0;32m--> 256\u001B[0m     \u001B[38;5;28;01mreturn\u001B[39;00m _invoke_function(\u001B[38;5;124m\"\u001B[39m\u001B[38;5;124mcol\u001B[39m\u001B[38;5;124m\"\u001B[39m, col)\n",
       "\n",
       "File \u001B[0;32m/databricks/spark/python/pyspark/sql/functions/builtin.py:103\u001B[0m, in \u001B[0;36m_invoke_function\u001B[0;34m(name, *args)\u001B[0m\n",
       "\u001B[1;32m    101\u001B[0m \u001B[38;5;28;01massert\u001B[39;00m SparkContext\u001B[38;5;241m.\u001B[39m_active_spark_context \u001B[38;5;129;01mis\u001B[39;00m \u001B[38;5;129;01mnot\u001B[39;00m \u001B[38;5;28;01mNone\u001B[39;00m\n",
       "\u001B[1;32m    102\u001B[0m jf \u001B[38;5;241m=\u001B[39m _get_jvm_function(name, SparkContext\u001B[38;5;241m.\u001B[39m_active_spark_context)\n",
       "\u001B[0;32m--> 103\u001B[0m \u001B[38;5;28;01mreturn\u001B[39;00m Column(jf(\u001B[38;5;241m*\u001B[39margs))\n",
       "\n",
       "File \u001B[0;32m/databricks/spark/python/lib/py4j-0.10.9.7-src.zip/py4j/java_gateway.py:1347\u001B[0m, in \u001B[0;36mJavaMember.__call__\u001B[0;34m(self, *args)\u001B[0m\n",
       "\u001B[1;32m   1346\u001B[0m \u001B[38;5;28;01mdef\u001B[39;00m \u001B[38;5;21m__call__\u001B[39m(\u001B[38;5;28mself\u001B[39m, \u001B[38;5;241m*\u001B[39margs):\n",
       "\u001B[0;32m-> 1347\u001B[0m     args_command, temp_args \u001B[38;5;241m=\u001B[39m \u001B[38;5;28mself\u001B[39m\u001B[38;5;241m.\u001B[39m_build_args(\u001B[38;5;241m*\u001B[39margs)\n",
       "\u001B[1;32m   1349\u001B[0m     command \u001B[38;5;241m=\u001B[39m proto\u001B[38;5;241m.\u001B[39mCALL_COMMAND_NAME \u001B[38;5;241m+\u001B[39m\\\n",
       "\u001B[1;32m   1350\u001B[0m         \u001B[38;5;28mself\u001B[39m\u001B[38;5;241m.\u001B[39mcommand_header \u001B[38;5;241m+\u001B[39m\\\n",
       "\u001B[1;32m   1351\u001B[0m         args_command \u001B[38;5;241m+\u001B[39m\\\n",
       "\u001B[1;32m   1352\u001B[0m         proto\u001B[38;5;241m.\u001B[39mEND_COMMAND_PART\n",
       "\u001B[1;32m   1354\u001B[0m     answer \u001B[38;5;241m=\u001B[39m \u001B[38;5;28mself\u001B[39m\u001B[38;5;241m.\u001B[39mgateway_client\u001B[38;5;241m.\u001B[39msend_command(command)\n",
       "\n",
       "File \u001B[0;32m/databricks/spark/python/lib/py4j-0.10.9.7-src.zip/py4j/java_gateway.py:1310\u001B[0m, in \u001B[0;36mJavaMember._build_args\u001B[0;34m(self, *args)\u001B[0m\n",
       "\u001B[1;32m   1308\u001B[0m \u001B[38;5;28;01mdef\u001B[39;00m \u001B[38;5;21m_build_args\u001B[39m(\u001B[38;5;28mself\u001B[39m, \u001B[38;5;241m*\u001B[39margs):\n",
       "\u001B[1;32m   1309\u001B[0m     \u001B[38;5;28;01mif\u001B[39;00m \u001B[38;5;28mself\u001B[39m\u001B[38;5;241m.\u001B[39mconverters \u001B[38;5;129;01mis\u001B[39;00m \u001B[38;5;129;01mnot\u001B[39;00m \u001B[38;5;28;01mNone\u001B[39;00m \u001B[38;5;129;01mand\u001B[39;00m \u001B[38;5;28mlen\u001B[39m(\u001B[38;5;28mself\u001B[39m\u001B[38;5;241m.\u001B[39mconverters) \u001B[38;5;241m>\u001B[39m \u001B[38;5;241m0\u001B[39m:\n",
       "\u001B[0;32m-> 1310\u001B[0m         (new_args, temp_args) \u001B[38;5;241m=\u001B[39m \u001B[38;5;28mself\u001B[39m\u001B[38;5;241m.\u001B[39m_get_args(args)\n",
       "\u001B[1;32m   1311\u001B[0m     \u001B[38;5;28;01melse\u001B[39;00m:\n",
       "\u001B[1;32m   1312\u001B[0m         new_args \u001B[38;5;241m=\u001B[39m args\n",
       "\n",
       "File \u001B[0;32m/databricks/spark/python/lib/py4j-0.10.9.7-src.zip/py4j/java_gateway.py:1297\u001B[0m, in \u001B[0;36mJavaMember._get_args\u001B[0;34m(self, args)\u001B[0m\n",
       "\u001B[1;32m   1295\u001B[0m \u001B[38;5;28;01mfor\u001B[39;00m converter \u001B[38;5;129;01min\u001B[39;00m \u001B[38;5;28mself\u001B[39m\u001B[38;5;241m.\u001B[39mgateway_client\u001B[38;5;241m.\u001B[39mconverters:\n",
       "\u001B[1;32m   1296\u001B[0m     \u001B[38;5;28;01mif\u001B[39;00m converter\u001B[38;5;241m.\u001B[39mcan_convert(arg):\n",
       "\u001B[0;32m-> 1297\u001B[0m         temp_arg \u001B[38;5;241m=\u001B[39m converter\u001B[38;5;241m.\u001B[39mconvert(arg, \u001B[38;5;28mself\u001B[39m\u001B[38;5;241m.\u001B[39mgateway_client)\n",
       "\u001B[1;32m   1298\u001B[0m         temp_args\u001B[38;5;241m.\u001B[39mappend(temp_arg)\n",
       "\u001B[1;32m   1299\u001B[0m         new_args\u001B[38;5;241m.\u001B[39mappend(temp_arg)\n",
       "\n",
       "File \u001B[0;32m/databricks/spark/python/lib/py4j-0.10.9.7-src.zip/py4j/java_collections.py:510\u001B[0m, in \u001B[0;36mListConverter.convert\u001B[0;34m(self, object, gateway_client)\u001B[0m\n",
       "\u001B[1;32m    508\u001B[0m ArrayList \u001B[38;5;241m=\u001B[39m JavaClass(\u001B[38;5;124m\"\u001B[39m\u001B[38;5;124mjava.util.ArrayList\u001B[39m\u001B[38;5;124m\"\u001B[39m, gateway_client)\n",
       "\u001B[1;32m    509\u001B[0m java_list \u001B[38;5;241m=\u001B[39m ArrayList()\n",
       "\u001B[0;32m--> 510\u001B[0m \u001B[38;5;28;01mfor\u001B[39;00m element \u001B[38;5;129;01min\u001B[39;00m \u001B[38;5;28mobject\u001B[39m:\n",
       "\u001B[1;32m    511\u001B[0m     java_list\u001B[38;5;241m.\u001B[39madd(element)\n",
       "\u001B[1;32m    512\u001B[0m \u001B[38;5;28;01mreturn\u001B[39;00m java_list\n",
       "\n",
       "File \u001B[0;32m/databricks/spark/python/pyspark/sql/column.py:747\u001B[0m, in \u001B[0;36mColumn.__iter__\u001B[0;34m(self)\u001B[0m\n",
       "\u001B[1;32m    746\u001B[0m \u001B[38;5;28;01mdef\u001B[39;00m \u001B[38;5;21m__iter__\u001B[39m(\u001B[38;5;28mself\u001B[39m) \u001B[38;5;241m-\u001B[39m\u001B[38;5;241m>\u001B[39m \u001B[38;5;28;01mNone\u001B[39;00m:\n",
       "\u001B[0;32m--> 747\u001B[0m     \u001B[38;5;28;01mraise\u001B[39;00m PySparkTypeError(\n",
       "\u001B[1;32m    748\u001B[0m         error_class\u001B[38;5;241m=\u001B[39m\u001B[38;5;124m\"\u001B[39m\u001B[38;5;124mNOT_ITERABLE\u001B[39m\u001B[38;5;124m\"\u001B[39m, message_parameters\u001B[38;5;241m=\u001B[39m{\u001B[38;5;124m\"\u001B[39m\u001B[38;5;124mobjectName\u001B[39m\u001B[38;5;124m\"\u001B[39m: \u001B[38;5;124m\"\u001B[39m\u001B[38;5;124mColumn\u001B[39m\u001B[38;5;124m\"\u001B[39m}\n",
       "\u001B[1;32m    749\u001B[0m     )\n",
       "\n",
       "\u001B[0;31mPySparkTypeError\u001B[0m: [NOT_ITERABLE] Column is not iterable."
      ]
     },
     "metadata": {
      "application/vnd.databricks.v1+output": {
       "addedWidgets": {},
       "arguments": {},
       "datasetInfos": [],
       "jupyterProps": {
        "ename": "PySparkTypeError",
        "evalue": "[NOT_ITERABLE] Column is not iterable."
       },
       "metadata": {
        "errorSummary": "Command skipped"
       },
       "removedWidgets": [],
       "sqlProps": {
        "errorClass": "NOT_ITERABLE",
        "pysparkCallSite": null,
        "pysparkFragment": null,
        "sqlState": null,
        "stackTrace": null,
        "startIndex": null,
        "stopIndex": null
       },
       "stackFrames": [
        "\u001B[0;31m---------------------------------------------------------------------------\u001B[0m",
        "\u001B[0;31mPySparkTypeError\u001B[0m                          Traceback (most recent call last)",
        "File \u001B[0;32m<command-2448543509588220>, line 1\u001B[0m\n\u001B[0;32m----> 1\u001B[0m avg10f \u001B[38;5;241m=\u001B[39m df02\u001B[38;5;241m.\u001B[39mwhere((col(\u001B[38;5;124m'\u001B[39m\u001B[38;5;124mgenero\u001B[39m\u001B[38;5;124m'\u001B[39m \u001B[38;5;241m==\u001B[39m lit(\u001B[38;5;124m'\u001B[39m\u001B[38;5;124mFemale\u001B[39m\u001B[38;5;124m'\u001B[39m))) \u001B[38;5;241m&\u001B[39m (col(\u001B[38;5;124m'\u001B[39m\u001B[38;5;124medad\u001B[39m\u001B[38;5;124m'\u001B[39m) \u001B[38;5;241m<\u001B[39m \u001B[38;5;241m10\u001B[39m))\u001B[38;5;241m.\u001B[39mselect(mean(col(\u001B[38;5;124m'\u001B[39m\u001B[38;5;124mIMC\u001B[39m\u001B[38;5;124m'\u001B[39m)))\u001B[38;5;241m.\u001B[39mcollect()\n\u001B[1;32m      2\u001B[0m avg20f \u001B[38;5;241m=\u001B[39m df02\u001B[38;5;241m.\u001B[39mwhere((col(\u001B[38;5;124m'\u001B[39m\u001B[38;5;124mgenero\u001B[39m\u001B[38;5;124m'\u001B[39m \u001B[38;5;241m==\u001B[39m lit(\u001B[38;5;124m'\u001B[39m\u001B[38;5;124mFemale\u001B[39m\u001B[38;5;124m'\u001B[39m))) \u001B[38;5;241m&\u001B[39m (col(\u001B[38;5;124m'\u001B[39m\u001B[38;5;124medad\u001B[39m\u001B[38;5;124m'\u001B[39m) \u001B[38;5;241m>\u001B[39m \u001B[38;5;241m10\u001B[39m) \u001B[38;5;241m&\u001B[39m (col(\u001B[38;5;124m'\u001B[39m\u001B[38;5;124medad\u001B[39m\u001B[38;5;124m'\u001B[39m) \u001B[38;5;241m<\u001B[39m \u001B[38;5;241m20\u001B[39m))\u001B[38;5;241m.\u001B[39mselect(mean(col(\u001B[38;5;124m'\u001B[39m\u001B[38;5;124mIMC\u001B[39m\u001B[38;5;124m'\u001B[39m)))\u001B[38;5;241m.\u001B[39mcollect()\n\u001B[1;32m      3\u001B[0m avg30f \u001B[38;5;241m=\u001B[39m df02\u001B[38;5;241m.\u001B[39mwhere((col(\u001B[38;5;124m'\u001B[39m\u001B[38;5;124mgenero\u001B[39m\u001B[38;5;124m'\u001B[39m \u001B[38;5;241m==\u001B[39m lit(\u001B[38;5;124m'\u001B[39m\u001B[38;5;124mFemale\u001B[39m\u001B[38;5;124m'\u001B[39m))) \u001B[38;5;241m&\u001B[39m (col(\u001B[38;5;124m'\u001B[39m\u001B[38;5;124medad\u001B[39m\u001B[38;5;124m'\u001B[39m) \u001B[38;5;241m>\u001B[39m \u001B[38;5;241m10\u001B[39m) \u001B[38;5;241m&\u001B[39m (col(\u001B[38;5;124m'\u001B[39m\u001B[38;5;124medad\u001B[39m\u001B[38;5;124m'\u001B[39m) \u001B[38;5;241m<\u001B[39m \u001B[38;5;241m30\u001B[39m))\u001B[38;5;241m.\u001B[39mselect(mean(col(\u001B[38;5;124m'\u001B[39m\u001B[38;5;124mIMC\u001B[39m\u001B[38;5;124m'\u001B[39m)))\u001B[38;5;241m.\u001B[39mcollect()\n",
        "File \u001B[0;32m/databricks/spark/python/pyspark/sql/utils.py:264\u001B[0m, in \u001B[0;36mtry_remote_functions.<locals>.wrapped\u001B[0;34m(*args, **kwargs)\u001B[0m\n\u001B[1;32m    262\u001B[0m     \u001B[38;5;28;01mreturn\u001B[39;00m \u001B[38;5;28mgetattr\u001B[39m(functions, f\u001B[38;5;241m.\u001B[39m\u001B[38;5;18m__name__\u001B[39m)(\u001B[38;5;241m*\u001B[39margs, \u001B[38;5;241m*\u001B[39m\u001B[38;5;241m*\u001B[39mkwargs)\n\u001B[1;32m    263\u001B[0m \u001B[38;5;28;01melse\u001B[39;00m:\n\u001B[0;32m--> 264\u001B[0m     \u001B[38;5;28;01mreturn\u001B[39;00m f(\u001B[38;5;241m*\u001B[39margs, \u001B[38;5;241m*\u001B[39m\u001B[38;5;241m*\u001B[39mkwargs)\n",
        "File \u001B[0;32m/databricks/spark/python/pyspark/sql/functions/builtin.py:256\u001B[0m, in \u001B[0;36mcol\u001B[0;34m(col)\u001B[0m\n\u001B[1;32m    229\u001B[0m \u001B[38;5;129m@_try_remote_functions\u001B[39m\n\u001B[1;32m    230\u001B[0m \u001B[38;5;28;01mdef\u001B[39;00m \u001B[38;5;21mcol\u001B[39m(col: \u001B[38;5;28mstr\u001B[39m) \u001B[38;5;241m-\u001B[39m\u001B[38;5;241m>\u001B[39m Column:\n\u001B[1;32m    231\u001B[0m \u001B[38;5;250m    \u001B[39m\u001B[38;5;124;03m\"\"\"\u001B[39;00m\n\u001B[1;32m    232\u001B[0m \u001B[38;5;124;03m    Returns a :class:`~pyspark.sql.Column` based on the given column name.\u001B[39;00m\n\u001B[1;32m    233\u001B[0m \n\u001B[0;32m   (...)\u001B[0m\n\u001B[1;32m    254\u001B[0m \u001B[38;5;124;03m    Column<'x'>\u001B[39;00m\n\u001B[1;32m    255\u001B[0m \u001B[38;5;124;03m    \"\"\"\u001B[39;00m\n\u001B[0;32m--> 256\u001B[0m     \u001B[38;5;28;01mreturn\u001B[39;00m _invoke_function(\u001B[38;5;124m\"\u001B[39m\u001B[38;5;124mcol\u001B[39m\u001B[38;5;124m\"\u001B[39m, col)\n",
        "File \u001B[0;32m/databricks/spark/python/pyspark/sql/functions/builtin.py:103\u001B[0m, in \u001B[0;36m_invoke_function\u001B[0;34m(name, *args)\u001B[0m\n\u001B[1;32m    101\u001B[0m \u001B[38;5;28;01massert\u001B[39;00m SparkContext\u001B[38;5;241m.\u001B[39m_active_spark_context \u001B[38;5;129;01mis\u001B[39;00m \u001B[38;5;129;01mnot\u001B[39;00m \u001B[38;5;28;01mNone\u001B[39;00m\n\u001B[1;32m    102\u001B[0m jf \u001B[38;5;241m=\u001B[39m _get_jvm_function(name, SparkContext\u001B[38;5;241m.\u001B[39m_active_spark_context)\n\u001B[0;32m--> 103\u001B[0m \u001B[38;5;28;01mreturn\u001B[39;00m Column(jf(\u001B[38;5;241m*\u001B[39margs))\n",
        "File \u001B[0;32m/databricks/spark/python/lib/py4j-0.10.9.7-src.zip/py4j/java_gateway.py:1347\u001B[0m, in \u001B[0;36mJavaMember.__call__\u001B[0;34m(self, *args)\u001B[0m\n\u001B[1;32m   1346\u001B[0m \u001B[38;5;28;01mdef\u001B[39;00m \u001B[38;5;21m__call__\u001B[39m(\u001B[38;5;28mself\u001B[39m, \u001B[38;5;241m*\u001B[39margs):\n\u001B[0;32m-> 1347\u001B[0m     args_command, temp_args \u001B[38;5;241m=\u001B[39m \u001B[38;5;28mself\u001B[39m\u001B[38;5;241m.\u001B[39m_build_args(\u001B[38;5;241m*\u001B[39margs)\n\u001B[1;32m   1349\u001B[0m     command \u001B[38;5;241m=\u001B[39m proto\u001B[38;5;241m.\u001B[39mCALL_COMMAND_NAME \u001B[38;5;241m+\u001B[39m\\\n\u001B[1;32m   1350\u001B[0m         \u001B[38;5;28mself\u001B[39m\u001B[38;5;241m.\u001B[39mcommand_header \u001B[38;5;241m+\u001B[39m\\\n\u001B[1;32m   1351\u001B[0m         args_command \u001B[38;5;241m+\u001B[39m\\\n\u001B[1;32m   1352\u001B[0m         proto\u001B[38;5;241m.\u001B[39mEND_COMMAND_PART\n\u001B[1;32m   1354\u001B[0m     answer \u001B[38;5;241m=\u001B[39m \u001B[38;5;28mself\u001B[39m\u001B[38;5;241m.\u001B[39mgateway_client\u001B[38;5;241m.\u001B[39msend_command(command)\n",
        "File \u001B[0;32m/databricks/spark/python/lib/py4j-0.10.9.7-src.zip/py4j/java_gateway.py:1310\u001B[0m, in \u001B[0;36mJavaMember._build_args\u001B[0;34m(self, *args)\u001B[0m\n\u001B[1;32m   1308\u001B[0m \u001B[38;5;28;01mdef\u001B[39;00m \u001B[38;5;21m_build_args\u001B[39m(\u001B[38;5;28mself\u001B[39m, \u001B[38;5;241m*\u001B[39margs):\n\u001B[1;32m   1309\u001B[0m     \u001B[38;5;28;01mif\u001B[39;00m \u001B[38;5;28mself\u001B[39m\u001B[38;5;241m.\u001B[39mconverters \u001B[38;5;129;01mis\u001B[39;00m \u001B[38;5;129;01mnot\u001B[39;00m \u001B[38;5;28;01mNone\u001B[39;00m \u001B[38;5;129;01mand\u001B[39;00m \u001B[38;5;28mlen\u001B[39m(\u001B[38;5;28mself\u001B[39m\u001B[38;5;241m.\u001B[39mconverters) \u001B[38;5;241m>\u001B[39m \u001B[38;5;241m0\u001B[39m:\n\u001B[0;32m-> 1310\u001B[0m         (new_args, temp_args) \u001B[38;5;241m=\u001B[39m \u001B[38;5;28mself\u001B[39m\u001B[38;5;241m.\u001B[39m_get_args(args)\n\u001B[1;32m   1311\u001B[0m     \u001B[38;5;28;01melse\u001B[39;00m:\n\u001B[1;32m   1312\u001B[0m         new_args \u001B[38;5;241m=\u001B[39m args\n",
        "File \u001B[0;32m/databricks/spark/python/lib/py4j-0.10.9.7-src.zip/py4j/java_gateway.py:1297\u001B[0m, in \u001B[0;36mJavaMember._get_args\u001B[0;34m(self, args)\u001B[0m\n\u001B[1;32m   1295\u001B[0m \u001B[38;5;28;01mfor\u001B[39;00m converter \u001B[38;5;129;01min\u001B[39;00m \u001B[38;5;28mself\u001B[39m\u001B[38;5;241m.\u001B[39mgateway_client\u001B[38;5;241m.\u001B[39mconverters:\n\u001B[1;32m   1296\u001B[0m     \u001B[38;5;28;01mif\u001B[39;00m converter\u001B[38;5;241m.\u001B[39mcan_convert(arg):\n\u001B[0;32m-> 1297\u001B[0m         temp_arg \u001B[38;5;241m=\u001B[39m converter\u001B[38;5;241m.\u001B[39mconvert(arg, \u001B[38;5;28mself\u001B[39m\u001B[38;5;241m.\u001B[39mgateway_client)\n\u001B[1;32m   1298\u001B[0m         temp_args\u001B[38;5;241m.\u001B[39mappend(temp_arg)\n\u001B[1;32m   1299\u001B[0m         new_args\u001B[38;5;241m.\u001B[39mappend(temp_arg)\n",
        "File \u001B[0;32m/databricks/spark/python/lib/py4j-0.10.9.7-src.zip/py4j/java_collections.py:510\u001B[0m, in \u001B[0;36mListConverter.convert\u001B[0;34m(self, object, gateway_client)\u001B[0m\n\u001B[1;32m    508\u001B[0m ArrayList \u001B[38;5;241m=\u001B[39m JavaClass(\u001B[38;5;124m\"\u001B[39m\u001B[38;5;124mjava.util.ArrayList\u001B[39m\u001B[38;5;124m\"\u001B[39m, gateway_client)\n\u001B[1;32m    509\u001B[0m java_list \u001B[38;5;241m=\u001B[39m ArrayList()\n\u001B[0;32m--> 510\u001B[0m \u001B[38;5;28;01mfor\u001B[39;00m element \u001B[38;5;129;01min\u001B[39;00m \u001B[38;5;28mobject\u001B[39m:\n\u001B[1;32m    511\u001B[0m     java_list\u001B[38;5;241m.\u001B[39madd(element)\n\u001B[1;32m    512\u001B[0m \u001B[38;5;28;01mreturn\u001B[39;00m java_list\n",
        "File \u001B[0;32m/databricks/spark/python/pyspark/sql/column.py:747\u001B[0m, in \u001B[0;36mColumn.__iter__\u001B[0;34m(self)\u001B[0m\n\u001B[1;32m    746\u001B[0m \u001B[38;5;28;01mdef\u001B[39;00m \u001B[38;5;21m__iter__\u001B[39m(\u001B[38;5;28mself\u001B[39m) \u001B[38;5;241m-\u001B[39m\u001B[38;5;241m>\u001B[39m \u001B[38;5;28;01mNone\u001B[39;00m:\n\u001B[0;32m--> 747\u001B[0m     \u001B[38;5;28;01mraise\u001B[39;00m PySparkTypeError(\n\u001B[1;32m    748\u001B[0m         error_class\u001B[38;5;241m=\u001B[39m\u001B[38;5;124m\"\u001B[39m\u001B[38;5;124mNOT_ITERABLE\u001B[39m\u001B[38;5;124m\"\u001B[39m, message_parameters\u001B[38;5;241m=\u001B[39m{\u001B[38;5;124m\"\u001B[39m\u001B[38;5;124mobjectName\u001B[39m\u001B[38;5;124m\"\u001B[39m: \u001B[38;5;124m\"\u001B[39m\u001B[38;5;124mColumn\u001B[39m\u001B[38;5;124m\"\u001B[39m}\n\u001B[1;32m    749\u001B[0m     )\n",
        "\u001B[0;31mPySparkTypeError\u001B[0m: [NOT_ITERABLE] Column is not iterable."
       ],
       "type": "baseError"
      }
     },
     "output_type": "display_data"
    }
   ],
   "source": [
    "spark"
   ]
  }
 ],
 "metadata": {
  "application/vnd.databricks.v1+notebook": {
   "computePreferences": null,
   "dashboards": [],
   "environmentMetadata": {
    "base_environment": "",
    "client": "1"
   },
   "language": "python",
   "notebookMetadata": {
    "pythonIndentUnit": 4
   },
   "notebookName": "Martínez_Febrero17",
   "widgets": {}
  }
 },
 "nbformat": 4,
 "nbformat_minor": 0
}
